{
 "metadata": {
  "name": "",
  "signature": "sha256:5d40348bea814377009888e80417c77738a4aa0b4db87fbd5a7b540a12e4f277"
 },
 "nbformat": 3,
 "nbformat_minor": 0,
 "worksheets": [
  {
   "cells": [
    {
     "cell_type": "code",
     "collapsed": false,
     "input": [
      "import networkx as nx\n",
      "\n",
      "%matplotlib inline\n",
      "\n",
      "G = nx.read_gpickle('Synthetic Social Network.pkl')"
     ],
     "language": "python",
     "metadata": {},
     "outputs": [],
     "prompt_number": 3
    },
    {
     "cell_type": "markdown",
     "metadata": {},
     "source": [
      "# Hubs: How do we evaluate the importance of some individuals in a network?\n",
      "\n",
      "Within a social network, there will be certain individuals which perform certain important functions. For example, there may be hyper-connected individuals who are connected to many, many more people. They would be of use in the spreading of information. Alternatively, if this were a disease contact network, identifying them wuld be useful in stopping the spread of diseases. How would one identify these people?"
     ]
    },
    {
     "cell_type": "markdown",
     "metadata": {},
     "source": [
      "## Neighbors\n",
      "\n",
      "One way we could compute this is to find out the number of people an individual is conencted to. NetworkX let's us do this by giving us a `G.neighbors(node)` function."
     ]
    },
    {
     "cell_type": "code",
     "collapsed": false,
     "input": [
      "# Let's find out the number of neighbors that individual #7 has.\n",
      "G.neighbors(7)"
     ],
     "language": "python",
     "metadata": {},
     "outputs": [
      {
       "metadata": {},
       "output_type": "pyout",
       "prompt_number": 6,
       "text": [
        "[24, 25]"
       ]
      }
     ],
     "prompt_number": 6
    },
    {
     "cell_type": "markdown",
     "metadata": {},
     "source": [
      "Exercise: Can you create a ranked list/dictionary/whatever structure you'd like of the number of the importance of each individual? (1-2 min.)"
     ]
    },
    {
     "cell_type": "code",
     "collapsed": false,
     "input": [
      "# Possible Answers:\n",
      "sorted([n for n in G.nodes()], key=lambda x:len(G.neighbors(x)), reverse=True)\n",
      "sorted([(n, G.neighbors(n)) for n in G.nodes()], key=lambda x: len(x[1]), reverse=True)"
     ],
     "language": "python",
     "metadata": {},
     "outputs": [
      {
       "metadata": {},
       "output_type": "pyout",
       "prompt_number": 15,
       "text": [
        "[(19, [0, 16, 2, 4, 22, 17, 27, 12]),\n",
        " (1, [4, 2, 3, 12, 29]),\n",
        " (2, [16, 1, 3, 6, 19]),\n",
        " (3, [8, 1, 2, 6, 23]),\n",
        " (17, [8, 9, 19, 14, 16]),\n",
        " (12, [0, 1, 19, 29]),\n",
        " (14, [17, 11, 13, 25]),\n",
        " (16, [17, 2, 19, 13]),\n",
        " (24, [9, 7, 13, 15]),\n",
        " (0, [10, 19, 12]),\n",
        " (4, [1, 19, 28]),\n",
        " (6, [2, 3, 23]),\n",
        " (8, [17, 3, 22]),\n",
        " (9, [24, 17, 11]),\n",
        " (10, [0, 11, 21]),\n",
        " (11, [9, 10, 14]),\n",
        " (13, [16, 24, 14]),\n",
        " (21, [10, 27, 26]),\n",
        " (23, [3, 20, 6]),\n",
        " (25, [28, 14, 7]),\n",
        " (27, [19, 20, 21]),\n",
        " (28, [25, 4, 15]),\n",
        " (29, [1, 26, 12]),\n",
        " (7, [24, 25]),\n",
        " (15, [24, 28]),\n",
        " (20, [27, 23]),\n",
        " (22, [8, 19]),\n",
        " (26, [21, 29]),\n",
        " (5, []),\n",
        " (18, [])]"
       ]
      }
     ],
     "prompt_number": 15
    },
    {
     "cell_type": "markdown",
     "metadata": {},
     "source": [
      "# Degree Centrality\n",
      "\n",
      "The number of other nodes that one node is connected to is a measure of its centrality. NetworkX implements a **degree centrality**, which is defined as the number of neighbors that a node has normalized to the number of individuals it could be connected to in the entire graph. This is accessed by using `nx.degree_centrality(G)`"
     ]
    },
    {
     "cell_type": "code",
     "collapsed": false,
     "input": [
      "nx.degree_centrality(G)"
     ],
     "language": "python",
     "metadata": {},
     "outputs": [
      {
       "metadata": {},
       "output_type": "pyout",
       "prompt_number": 16,
       "text": [
        "{0: 0.10344827586206896,\n",
        " 1: 0.1724137931034483,\n",
        " 2: 0.1724137931034483,\n",
        " 3: 0.1724137931034483,\n",
        " 4: 0.10344827586206896,\n",
        " 5: 0.0,\n",
        " 6: 0.10344827586206896,\n",
        " 7: 0.06896551724137931,\n",
        " 8: 0.10344827586206896,\n",
        " 9: 0.10344827586206896,\n",
        " 10: 0.10344827586206896,\n",
        " 11: 0.10344827586206896,\n",
        " 12: 0.13793103448275862,\n",
        " 13: 0.10344827586206896,\n",
        " 14: 0.13793103448275862,\n",
        " 15: 0.06896551724137931,\n",
        " 16: 0.13793103448275862,\n",
        " 17: 0.1724137931034483,\n",
        " 18: 0.0,\n",
        " 19: 0.27586206896551724,\n",
        " 20: 0.06896551724137931,\n",
        " 21: 0.10344827586206896,\n",
        " 22: 0.06896551724137931,\n",
        " 23: 0.10344827586206896,\n",
        " 24: 0.13793103448275862,\n",
        " 25: 0.10344827586206896,\n",
        " 26: 0.06896551724137931,\n",
        " 27: 0.10344827586206896,\n",
        " 28: 0.10344827586206896,\n",
        " 29: 0.10344827586206896}"
       ]
      }
     ],
     "prompt_number": 16
    },
    {
     "cell_type": "markdown",
     "metadata": {},
     "source": [
      "If you inspect the dictionary closely, you will find that node 19 is the one that has the highest degree centrality, just as we had measured by counting the number of neighbors.\n",
      "\n",
      "There are other measures of centrality, namely **betweenness centrality**, **flow centrality** and **load centrality**. You can take a look at their definitions on the NetworkX API docs and their cited references. You can also define your own measures if those don't fit your needs, but that is an advanced topic that won't be dealt with here.\n",
      "\n",
      "The NetworkX API docs that document the centrality measures are here: http://networkx.github.io/documentation/networkx-1.9.1/reference/algorithms.centrality.html"
     ]
    },
    {
     "cell_type": "markdown",
     "metadata": {},
     "source": [
      "# Traversing Paths in a Network\n",
      "\n",
      "Graphs/networks are useful as maps. We can imagine ourselves as an individual standing on one node, and being able to walk to another node via the edges that connect the nodes. Can we write code that helps us move through the graph in such a fashion?"
     ]
    },
    {
     "cell_type": "code",
     "collapsed": false,
     "input": [],
     "language": "python",
     "metadata": {},
     "outputs": []
    }
   ],
   "metadata": {}
  }
 ]
}