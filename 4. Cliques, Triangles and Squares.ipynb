{
 "metadata": {
  "name": "",
  "signature": "sha256:e259facdc19929425f981ba8c43049557616415a90d256042b2e8bb9d9579f71"
 },
 "nbformat": 3,
 "nbformat_minor": 0,
 "worksheets": [
  {
   "cells": [
    {
     "cell_type": "code",
     "collapsed": false,
     "input": [
      "import networkx as nx\n",
      "import matplotlib.pyplot as plt\n",
      "\n",
      "%matplotlib inline"
     ],
     "language": "python",
     "metadata": {},
     "outputs": [],
     "prompt_number": 10
    },
    {
     "cell_type": "markdown",
     "metadata": {},
     "source": [
      "# Cliques, Triangles and Squares\n",
      "\n",
      "Let's pose a problem: If A knows B and B knows C, would it be probable that A knows C as well? In a graph involving just these three individuals, it may look as such:"
     ]
    },
    {
     "cell_type": "code",
     "collapsed": false,
     "input": [
      "G = nx.Graph()\n",
      "G.add_nodes_from(['a', 'b', 'c'])\n",
      "G.add_edges_from([('a','b'), ('b', 'c')])\n",
      "nx.draw(G, with_labels=True)"
     ],
     "language": "python",
     "metadata": {},
     "outputs": [
      {
       "metadata": {},
       "output_type": "display_data",
       "png": "[encoded data removed]",
       "text": [
        "<matplotlib.figure.Figure at 0x10fa8f390>"
       ]
      }
     ],
     "prompt_number": 11
    },
    {
     "cell_type": "markdown",
     "metadata": {},
     "source": [
      "Let's think of another problem: If A knows B, B knows C, C knows D and D knows A, is it likely that A knows C and B knows D? How would this look like?"
     ]
    },
    {
     "cell_type": "code",
     "collapsed": false,
     "input": [
      "G.add_node('d')\n",
      "G.add_edge('c', 'd')\n",
      "G.add_edge('d', 'a')\n",
      "nx.draw(G, with_labels=True)"
     ],
     "language": "python",
     "metadata": {},
     "outputs": [
      {
       "metadata": {},
       "output_type": "display_data",
       "png": "[encoded data removed]",
       "text": [
        "<matplotlib.figure.Figure at 0x10fed06d8>"
       ]
      }
     ],
     "prompt_number": 12
    },
    {
     "cell_type": "markdown",
     "metadata": {},
     "source": [
      "The set of relationships involving A, B and C, if closed, involves a triangle in the graph. The set of relationships that also include D form a square.\n",
      "\n",
      "You may have observed that social networks (LinkedIn, Facebook, Twitter etc.) have friend recommendation systems. How exactly do they work? Apart from analyzing other variables, closing triangles is one of the core ideas behind the system. A knows B and B knows C, then A probably knows C as well.\n",
      "\n",
      "If all of the triangles in the two small-scale networks were closed, then the graph would have represented **cliques**, in which everybody within that subgraph knows one another.\n",
      "\n",
      "In this section, we will attempt to answer the following questions:\n",
      "\n",
      "1. Can we identify cliques?\n",
      "2. Can we identify *potential* cliques that aren't captured by the network?\n",
      "3. Can we model the probability that two unconnected individuals know one another?\n",
      "\n",
      "As usual, let's start by loading the synthetic network."
     ]
    },
    {
     "cell_type": "code",
     "collapsed": false,
     "input": [
      "# Load the network.\n",
      "G = nx.read_gpickle('Synthetic Social Network.pkl')\n",
      "G.nodes()"
     ],
     "language": "python",
     "metadata": {},
     "outputs": [
      {
       "metadata": {},
       "output_type": "pyout",
       "prompt_number": 15,
       "text": [
        "[0,\n",
        " 1,\n",
        " 2,\n",
        " 3,\n",
        " 4,\n",
        " 5,\n",
        " 6,\n",
        " 7,\n",
        " 8,\n",
        " 9,\n",
        " 10,\n",
        " 11,\n",
        " 12,\n",
        " 13,\n",
        " 14,\n",
        " 15,\n",
        " 16,\n",
        " 17,\n",
        " 18,\n",
        " 19,\n",
        " 20,\n",
        " 21,\n",
        " 22,\n",
        " 23,\n",
        " 24,\n",
        " 25,\n",
        " 26,\n",
        " 27,\n",
        " 28,\n",
        " 29]"
       ]
      }
     ],
     "prompt_number": 15
    },
    {
     "cell_type": "markdown",
     "metadata": {},
     "source": [
      "## Cliques\n",
      "\n",
      "In a social network, cliques are groups of people in which everybody knows everybody. Triangles are a simple example of cliques. Let's try implementing a simple algorithm that finds out whether a node is present in a triangle or not.\n",
      "\n",
      "The core idea is that if a node is present in a triangle, then its neighbors' neighbors' neighbors should include itself."
     ]
    },
    {
     "cell_type": "code",
     "collapsed": false,
     "input": [
      "def in_triangle(G, node):\n",
      "    neighbors1 = G.neighbors(node)\n",
      "    neighbors2 = []\n",
      "    for n in neighbors1:\n",
      "        neighbors = G.neighbors(n)\n",
      "        if node in neighbors2:\n",
      "            neighbors2.remove(node)\n",
      "        neighbors2.extend(G.neighbors(n))\n",
      "    \n",
      "    neighbors3 = []\n",
      "    for n in neighbors2:\n",
      "        neighbors = G.neighbors(n)\n",
      "        neighbors3.extend(G.neighbors(n))\n",
      "        \n",
      "    if node in neighbors3:\n",
      "        return True\n",
      "    else:\n",
      "        return False\n",
      "    \n",
      "in_triangle(G, 3)"
     ],
     "language": "python",
     "metadata": {},
     "outputs": [
      {
       "metadata": {},
       "output_type": "pyout",
       "prompt_number": 19,
       "text": [
        "True"
       ]
      }
     ],
     "prompt_number": 19
    },
    {
     "cell_type": "code",
     "collapsed": false,
     "input": [
      "nx.triangles(G, 3)"
     ],
     "language": "python",
     "metadata": {},
     "outputs": [
      {
       "metadata": {},
       "output_type": "pyout",
       "prompt_number": 20,
       "text": [
        "3"
       ]
      }
     ],
     "prompt_number": 20
    },
    {
     "cell_type": "code",
     "collapsed": false,
     "input": [],
     "language": "python",
     "metadata": {},
     "outputs": []
    }
   ],
   "metadata": {}
  }
 ]
}